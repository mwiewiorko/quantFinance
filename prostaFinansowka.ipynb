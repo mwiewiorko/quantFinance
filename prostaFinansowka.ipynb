{
  "nbformat": 4,
  "nbformat_minor": 0,
  "metadata": {
    "colab": {
      "name": "Untitled2.ipynb",
      "provenance": [],
      "authorship_tag": "ABX9TyNQHseI84jV2Ge/tgORCm8k",
      "include_colab_link": true
    },
    "kernelspec": {
      "name": "python3",
      "display_name": "Python 3"
    }
  },
  "cells": [
    {
      "cell_type": "markdown",
      "metadata": {
        "id": "view-in-github",
        "colab_type": "text"
      },
      "source": [
        "<a href=\"https://colab.research.google.com/github/mwiewiorko/quantFinance/blob/master/prostaFinansowka.ipynb\" target=\"_parent\"><img src=\"https://colab.research.google.com/assets/colab-badge.svg\" alt=\"Open In Colab\"/></a>"
      ]
    },
    {
      "cell_type": "code",
      "metadata": {
        "id": "9FggW47dhG69",
        "colab_type": "code",
        "colab": {}
      },
      "source": [
        "import datetime"
      ],
      "execution_count": 12,
      "outputs": []
    },
    {
      "cell_type": "code",
      "metadata": {
        "id": "A4MPVBXWcc4S",
        "colab_type": "code",
        "colab": {}
      },
      "source": [
        "class Balance:\n",
        "  def __init__(self,d_date,capital,interest,other):\n",
        "    self.d_date=d_date\n",
        "    self.capital=capital\n",
        "    self.interest=interest\n",
        "    self.other=other\n",
        "\n",
        "  def addBalance(self,add_capital,add_interest,add_other):\n",
        "    self.capital+=add_capital\n",
        "    self.interest+=add_interest\n",
        "    self.other+=add_other\n",
        "  \n",
        "  def getCurrentBalance(self):\n",
        "    a=self.capital+self.interest+self.other\n",
        "    return a\n",
        "\n"
      ],
      "execution_count": 13,
      "outputs": []
    },
    {
      "cell_type": "code",
      "metadata": {
        "id": "x43m4VmwgFpH",
        "colab_type": "code",
        "colab": {
          "base_uri": "https://localhost:8080/",
          "height": 35
        },
        "outputId": "0fbc0bd9-4db9-4a53-92e4-97c99ab44dc6"
      },
      "source": [
        "i=1\n",
        "i+=1\n",
        "print(i)"
      ],
      "execution_count": 10,
      "outputs": [
        {
          "output_type": "stream",
          "text": [
            "2\n"
          ],
          "name": "stdout"
        }
      ]
    },
    {
      "cell_type": "code",
      "metadata": {
        "id": "880fjU-ogyQZ",
        "colab_type": "code",
        "colab": {}
      },
      "source": [
        "d=datetime.datetime(2020, 5, 17)\n",
        "a=Balance(d,1000,0,200)"
      ],
      "execution_count": 18,
      "outputs": []
    },
    {
      "cell_type": "code",
      "metadata": {
        "id": "F2Cc2JjPimiE",
        "colab_type": "code",
        "colab": {
          "base_uri": "https://localhost:8080/",
          "height": 35
        },
        "outputId": "1fe42460-36d1-45df-d0ef-ebdff79c778f"
      },
      "source": [
        "a.getCurrentBalance()\n",
        "a.addBalance(100,200,100)\n",
        "a.getCurrentBalance()"
      ],
      "execution_count": 19,
      "outputs": [
        {
          "output_type": "execute_result",
          "data": {
            "text/plain": [
              "1600"
            ]
          },
          "metadata": {
            "tags": []
          },
          "execution_count": 19
        }
      ]
    },
    {
      "cell_type": "markdown",
      "metadata": {
        "id": "XvZ1qKvnjCiJ",
        "colab_type": "text"
      },
      "source": [
        "Do zrobienia:\n",
        "\n",
        "\n",
        "*  Przesuniecie w czasie: \n",
        "1. O wzkazaną liczbę dni\n",
        "2. Do daty (obsłużyć błąd gdy cofamy się wstecz)\n",
        "3. Prosta wersja -> tylko z obsługa odetek\n",
        "4. Bardziej skomplikowana -> również wpłaty\n",
        "\n",
        "\n",
        "* Próba napisania tego w optymalny sposób. Prawdopodobnie przejście na ramki danych albo array (numpy)\n",
        "\n",
        "\n",
        "\n"
      ]
    }
  ]
}