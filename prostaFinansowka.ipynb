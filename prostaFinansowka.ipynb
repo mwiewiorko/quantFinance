{
  "nbformat": 4,
  "nbformat_minor": 0,
  "metadata": {
    "colab": {
      "name": "Untitled2.ipynb",
      "provenance": [],
      "authorship_tag": "ABX9TyN0JlqXTAxgw3OIErk6hCTj",
      "include_colab_link": true
    },
    "kernelspec": {
      "name": "python3",
      "display_name": "Python 3"
    }
  },
  "cells": [
    {
      "cell_type": "markdown",
      "metadata": {
        "id": "view-in-github",
        "colab_type": "text"
      },
      "source": [
        "<a href=\"https://colab.research.google.com/github/mwiewiorko/quantFinance/blob/master/prostaFinansowka.ipynb\" target=\"_parent\"><img src=\"https://colab.research.google.com/assets/colab-badge.svg\" alt=\"Open In Colab\"/></a>"
      ]
    },
    {
      "cell_type": "code",
      "metadata": {
        "id": "9FggW47dhG69",
        "colab_type": "code",
        "colab": {}
      },
      "source": [
        "import datetime"
      ],
      "execution_count": 2,
      "outputs": []
    },
    {
      "cell_type": "code",
      "metadata": {
        "id": "A4MPVBXWcc4S",
        "colab_type": "code",
        "colab": {}
      },
      "source": [
        "class Balance:\n",
        "  def __init__(self,d_date,capital,interest,other):\n",
        "    self.d_date=d_date\n",
        "    self.capital=capital\n",
        "    self.interest=interest\n",
        "    self.other=other\n",
        "\n",
        "  def addBalance(self,add_capital,add_interest,add_other):\n",
        "    self.capital+=add_capital\n",
        "    self.interest+=add_interest\n",
        "    self.other+=add_other\n",
        "  \n",
        "  def getCurrentBalance(self):\n",
        "    a=self.capital+self.interest+self.other\n",
        "    return a\n",
        "\n",
        "  def showCurrentState(self):\n",
        "    print(f\"data: {self.d_date} \\n capital: {self.capital} \\n interest: {self.interest} \\n other: {self.other}\")\n",
        "\n",
        "  def move2date(self,new_date,interest_rate):\n",
        "    if self.d_date>=new_date:\n",
        "      print(\"Can't perform that operation. new_date is before current state.\")\n",
        "    else:\n",
        "      time_interval=(new_date-self.d_date).days\n",
        "      #print(time_interval.days)\n",
        "      #time_interval=time_interval.days\n",
        "      add_interest=self.capital*(time_interval/365.)*interest_rate\n",
        "      self.interest+=add_interest\n",
        "\n",
        "\n"
      ],
      "execution_count": 30,
      "outputs": []
    },
    {
      "cell_type": "code",
      "metadata": {
        "id": "x43m4VmwgFpH",
        "colab_type": "code",
        "colab": {
          "base_uri": "https://localhost:8080/",
          "height": 35
        },
        "outputId": "adf04683-5367-4a47-ad4d-180551d478cb"
      },
      "source": [
        "dt=datetime.datetime(2020, 5, 17)-datetime.datetime(2020, 5, 15)\n",
        "dt.days"
      ],
      "execution_count": 24,
      "outputs": [
        {
          "output_type": "execute_result",
          "data": {
            "text/plain": [
              "2"
            ]
          },
          "metadata": {
            "tags": []
          },
          "execution_count": 24
        }
      ]
    },
    {
      "cell_type": "code",
      "metadata": {
        "id": "880fjU-ogyQZ",
        "colab_type": "code",
        "colab": {}
      },
      "source": [
        "d=datetime.datetime(2020, 5, 17)\n",
        "a=Balance(d,1000,0,200)"
      ],
      "execution_count": 28,
      "outputs": []
    },
    {
      "cell_type": "code",
      "metadata": {
        "id": "F2Cc2JjPimiE",
        "colab_type": "code",
        "colab": {
          "base_uri": "https://localhost:8080/",
          "height": 271
        },
        "outputId": "7e58408e-f6b3-4788-ab51-19d2e776a4e5"
      },
      "source": [
        "a.showCurrentState()\n",
        "print(a.getCurrentBalance())\n",
        "a.addBalance(100,200,100)\n",
        "a.showCurrentState()\n",
        "a.move2date(datetime.datetime(2020, 6, 10),0.03)\n",
        "a.showCurrentState()"
      ],
      "execution_count": 31,
      "outputs": [
        {
          "output_type": "stream",
          "text": [
            "data: 2020-05-17 00:00:00 \n",
            " capital: 1100 \n",
            " interest: 202.16986301369863 \n",
            " other: 300\n",
            "1602.1698630136987\n",
            "data: 2020-05-17 00:00:00 \n",
            " capital: 1200 \n",
            " interest: 402.16986301369866 \n",
            " other: 400\n",
            "24\n",
            "data: 2020-05-17 00:00:00 \n",
            " capital: 1200 \n",
            " interest: 404.5369863013699 \n",
            " other: 400\n"
          ],
          "name": "stdout"
        }
      ]
    },
    {
      "cell_type": "markdown",
      "metadata": {
        "id": "XvZ1qKvnjCiJ",
        "colab_type": "text"
      },
      "source": [
        "Do zrobienia:\n",
        "\n",
        "\n",
        "*  Przesuniecie w czasie: \n",
        "1. O wzkazaną liczbę dni\n",
        "2. Do daty (obsłużyć błąd gdy cofamy się wstecz)\n",
        "3. Prosta wersja -> tylko z obsługa odetek\n",
        "4. Bardziej skomplikowana -> również wpłaty\n",
        "\n",
        "\n",
        "* Próba napisania tego w optymalny sposób. Prawdopodobnie przejście na ramki danych albo array (numpy?)\n",
        "\n",
        "\n",
        "\n",
        "* Pytania:\n",
        "1. Jak definiuję klasę to po zmianie definicji musze przeliczać wszytko od nowa? Czy zmienne tej klasy są juz updatowane do wykonanej modyfikacji (chyba tak nie moze być -> bo np gdy zmienię pola obiektu)\n",
        "2. Jak z góry zdefiniować typ danego pola?\n",
        "3. Jeżeli mam grupę kont które mają klasę  **Balance** -> jak operować tym efektywnie \n",
        "4. Jak robić podpunkty markdown?\n",
        "5. Czy coś napisalbys optymalniej\n",
        "6. datetime -> czy są alternatywne pakiety\n",
        "\n",
        "\n"
      ]
    }
  ]
}