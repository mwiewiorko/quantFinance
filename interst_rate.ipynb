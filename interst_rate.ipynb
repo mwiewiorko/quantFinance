{
  "nbformat": 4,
  "nbformat_minor": 0,
  "metadata": {
    "colab": {
      "name": "Untitled1.ipynb",
      "provenance": [],
      "collapsed_sections": [],
      "authorship_tag": "ABX9TyOF1A74vOadPp/8sGCQATLK",
      "include_colab_link": true
    },
    "kernelspec": {
      "name": "python3",
      "display_name": "Python 3"
    }
  },
  "cells": [
    {
      "cell_type": "markdown",
      "metadata": {
        "id": "view-in-github",
        "colab_type": "text"
      },
      "source": [
        "<a href=\"https://colab.research.google.com/github/mwiewiorko/quantFinance/blob/master/interst_rate.ipynb\" target=\"_parent\"><img src=\"https://colab.research.google.com/assets/colab-badge.svg\" alt=\"Open In Colab\"/></a>"
      ]
    },
    {
      "cell_type": "code",
      "metadata": {
        "id": "wgCTJkMt0vsV",
        "colab_type": "code",
        "colab": {
          "base_uri": "https://localhost:8080/",
          "height": 164
        },
        "outputId": "8d3f6568-cb68-4654-b45b-a65d54649a06"
      },
      "source": [
        "!pip install QuantLib-Python"
      ],
      "execution_count": 2,
      "outputs": [
        {
          "output_type": "stream",
          "text": [
            "Collecting QuantLib-Python\n",
            "  Downloading https://files.pythonhosted.org/packages/7e/a9/4c6fac9c3c9b1625ab573531bbe9666d2f7cd6bc0a5eeb1f5792b947d9b2/QuantLib_Python-1.18-py2.py3-none-any.whl\n",
            "Collecting QuantLib\n",
            "\u001b[?25l  Downloading https://files.pythonhosted.org/packages/3a/9b/0112aad3fdb6cb7ffcde1d70e28272f48bf35e95761a32b9a9464c7ba88f/QuantLib-1.18.1-cp36-cp36m-manylinux1_x86_64.whl (18.3MB)\n",
            "\u001b[K     |████████████████████████████████| 18.3MB 1.2MB/s \n",
            "\u001b[?25hInstalling collected packages: QuantLib, QuantLib-Python\n",
            "Successfully installed QuantLib-1.18.1 QuantLib-Python-1.18\n"
          ],
          "name": "stdout"
        }
      ]
    },
    {
      "cell_type": "code",
      "metadata": {
        "id": "zjqFpRGMzucT",
        "colab_type": "code",
        "colab": {}
      },
      "source": [
        "import pandas as pd\n",
        "import numpy as np\n",
        "import QuantLib as ql"
      ],
      "execution_count": 4,
      "outputs": []
    },
    {
      "cell_type": "markdown",
      "metadata": {
        "id": "Tf7jSC_62C-b",
        "colab_type": "text"
      },
      "source": [
        "Define interest rate"
      ]
    },
    {
      "cell_type": "code",
      "metadata": {
        "id": "Koix7a2s04fP",
        "colab_type": "code",
        "colab": {
          "base_uri": "https://localhost:8080/",
          "height": 35
        },
        "outputId": "e54fc928-1e31-4ab9-c6b0-7c48065e1303"
      },
      "source": [
        "annualRate = 0.05\n",
        "dayCount = ql.ActualActual()\n",
        "compoundType = ql.Compounded\n",
        "frequency = ql.Annual\n",
        "interestRate = ql.InterestRate(annualRate, dayCount, compoundType, frequency)\n",
        "\n"
      ],
      "execution_count": 6,
      "outputs": [
        {
          "output_type": "execute_result",
          "data": {
            "text/plain": [
              "<QuantLib.QuantLib.InterestRate; proxy of <Swig Object of type 'InterestRate *' at 0x7fc0c5c9e3c0> >"
            ]
          },
          "metadata": {
            "tags": []
          },
          "execution_count": 6
        }
      ]
    },
    {
      "cell_type": "markdown",
      "metadata": {
        "id": "zLSYXoKi3DdT",
        "colab_type": "text"
      },
      "source": [
        "\n"
      ]
    },
    {
      "cell_type": "code",
      "metadata": {
        "id": "LJuKjlhD3OZq",
        "colab_type": "code",
        "colab": {
          "base_uri": "https://localhost:8080/",
          "height": 35
        },
        "outputId": "a07fe27a-362d-4ba3-b809-920628892177"
      },
      "source": [
        "interestRate.compoundFactor(2.0)\n",
        "interestRate.discountFactor(2.0)\n",
        "\n",
        "\n",
        "\n",
        "newFrequency = ql.Semiannual\n",
        "effectiveRate = interestRate.equivalentRate(compoundType, newFrequency, 1)\n",
        "effectiveRate.rate()"
      ],
      "execution_count": 8,
      "outputs": [
        {
          "output_type": "execute_result",
          "data": {
            "text/plain": [
              "0.04939015319191986"
            ]
          },
          "metadata": {
            "tags": []
          },
          "execution_count": 8
        }
      ]
    },
    {
      "cell_type": "markdown",
      "metadata": {
        "id": "VkNF8nFr5sbh",
        "colab_type": "text"
      },
      "source": [
        "Do przejrzenia:\n",
        "https://colab.research.google.com/github/google/tf-quant-finance/blob/master/tf_quant_finance/examples/jupyter_notebooks/Monte_Carlo_Euler_Scheme.ipynb#scrollTo=QxMuce0vVKaL"
      ]
    },
    {
      "cell_type": "code",
      "metadata": {
        "id": "kQbvV2Zp3pnz",
        "colab_type": "code",
        "colab": {}
      },
      "source": [
        "interestRate.rate()\n"
      ],
      "execution_count": null,
      "outputs": []
    }
  ]
}