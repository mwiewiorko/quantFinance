{
  "nbformat": 4,
  "nbformat_minor": 0,
  "metadata": {
    "colab": {
      "name": "Untitled0.ipynb",
      "provenance": [],
      "authorship_tag": "ABX9TyN4zVk0Yz7RHGVIpn6hiGnB",
      "include_colab_link": true
    },
    "kernelspec": {
      "name": "python3",
      "display_name": "Python 3"
    }
  },
  "cells": [
    {
      "cell_type": "markdown",
      "metadata": {
        "id": "view-in-github",
        "colab_type": "text"
      },
      "source": [
        "<a href=\"https://colab.research.google.com/github/mwiewiorko/quantFinance/blob/master/input_text_data.ipynb\" target=\"_parent\"><img src=\"https://colab.research.google.com/assets/colab-badge.svg\" alt=\"Open In Colab\"/></a>"
      ]
    },
    {
      "cell_type": "code",
      "metadata": {
        "id": "gOk5v6sQEzFH",
        "colab_type": "code",
        "colab": {}
      },
      "source": [
        "import numpy as np\n",
        "import pandas as pd"
      ],
      "execution_count": 1,
      "outputs": []
    },
    {
      "cell_type": "code",
      "metadata": {
        "id": "fqpxbzrJ_GjM",
        "colab_type": "code",
        "colab": {}
      },
      "source": [
        "state=['1111','0111','1111','0111','1110','0110','1101','0101','1011','0011','1110','0110','1101','0101','1100','0100','1011','0011','1010','0010','1001','0001','1100','0100','1010','0010','1001','0001','1000','0000','m0','m1','m2','m3','m4','m5','m6','m7','m8','m9','m10','m11','1000','0000','m0','m1','m2','m3','m4','m5','m6','m7','m8','m9','m10','0000','m11','deaktywacja']\n",
        "state_next=['1111','1111','1110','1110','1101','1101','1011','1011','0111','0111','1100','1100','1010','1010','1001','1001','0110','0110','0101','0101','0011','0011','1000','1000','0100','0100','0010','0010','0001','0001','0001','0001','0001','0001','0001','0001','0001','0001','0001','0001','0001','0001','0000','0000','m1','m2','m3','m4','m5','m6','m7','m8','m9','m10','m11','deaktywacja','deaktywacja','deaktywacja']\n",
        "prob=['0,93','0,85','0,07','0,15','0,6','0,6','0,75','0,6','0,76','0,8','0,4','0,4','0,25','0,4','0,31','0,25','0,24','0,2','0,62','0,32','0,68','0,61','0,69','0,75','0,38','0,68','0,32','0,39','0,2','0,05','0,05','0,05','0,05','0,05','0,05','0,05','0,05','0,05','0,05','0,05','0,05','0,05','0,8','0,75','0,95','0,95','0,95','0,95','0,95','0,95','0,95','0,95','0,95','0,95','0,95','0,2','0,95','1']\n",
        "#words = [w.replace('[br]', '<br />') for w in words] #https://stackoverflow.com/questions/3136689/find-and-replace-string-values-in-list\n",
        "prob = [p.replace(',', '.') for p in prob]\n",
        "prob = [float(p) for p in prob]\n"
      ],
      "execution_count": 2,
      "outputs": []
    },
    {
      "cell_type": "code",
      "metadata": {
        "id": "Vrc9LCPmssmg",
        "colab_type": "code",
        "colab": {}
      },
      "source": [
        "# dictionary of lists  \n",
        "dict = {'state': state, 'state_next': state_next, 'prob': prob}  \n",
        "    \n",
        "df_v1 = pd.DataFrame(dict) \n",
        "df_v1\n"
      ],
      "execution_count": null,
      "outputs": []
    },
    {
      "cell_type": "code",
      "metadata": {
        "id": "Biy9JoYmt5Y7",
        "colab_type": "code",
        "colab": {}
      },
      "source": [
        "# Calling DataFrame constructor after zipping \n",
        "# both lists, with columns specified \n",
        "df = pd.DataFrame(list(zip(state, state_next,prob)), \n",
        "               columns =['state', 'state_next','prob']) \n",
        "df "
      ],
      "execution_count": null,
      "outputs": []
    },
    {
      "cell_type": "code",
      "metadata": {
        "id": "SyEVqRhyuCud",
        "colab_type": "code",
        "colab": {
          "base_uri": "https://localhost:8080/",
          "height": 55
        },
        "outputId": "7b7f61ea-66c1-4b7b-c4e6-cbb2a5e29aea"
      },
      "source": [
        "# Try understand zip function\n",
        "print(list(zip(state, state_next)))\n"
      ],
      "execution_count": 5,
      "outputs": [
        {
          "output_type": "stream",
          "text": [
            "[('1111', '1111'), ('0111', '1111'), ('1111', '1110'), ('0111', '1110'), ('1110', '1101'), ('0110', '1101'), ('1101', '1011'), ('0101', '1011'), ('1011', '0111'), ('0011', '0111'), ('1110', '1100'), ('0110', '1100'), ('1101', '1010'), ('0101', '1010'), ('1100', '1001'), ('0100', '1001'), ('1011', '0110'), ('0011', '0110'), ('1010', '0101'), ('0010', '0101'), ('1001', '0011'), ('0001', '0011'), ('1100', '1000'), ('0100', '1000'), ('1010', '0100'), ('0010', '0100'), ('1001', '0010'), ('0001', '0010'), ('1000', '0001'), ('0000', '0001'), ('m0', '0001'), ('m1', '0001'), ('m2', '0001'), ('m3', '0001'), ('m4', '0001'), ('m5', '0001'), ('m6', '0001'), ('m7', '0001'), ('m8', '0001'), ('m9', '0001'), ('m10', '0001'), ('m11', '0001'), ('1000', '0000'), ('0000', '0000'), ('m0', 'm1'), ('m1', 'm2'), ('m2', 'm3'), ('m3', 'm4'), ('m4', 'm5'), ('m5', 'm6'), ('m6', 'm7'), ('m7', 'm8'), ('m8', 'm9'), ('m9', 'm10'), ('m10', 'm11'), ('0000', 'deaktywacja'), ('m11', 'deaktywacja'), ('deaktywacja', 'deaktywacja')]\n"
          ],
          "name": "stdout"
        }
      ]
    },
    {
      "cell_type": "code",
      "metadata": {
        "id": "k7zAR90_2wbN",
        "colab_type": "code",
        "colab": {
          "base_uri": "https://localhost:8080/",
          "height": 455
        },
        "outputId": "2ecd19bf-1320-43bd-c8b4-5fb3e692f44e"
      },
      "source": [
        "multyply=pd.merge(df,df,how=\"inner\",left_on=\"state\",right_on=\"state_next\", suffixes=('_x', '_y') )\n",
        "multyply['prob']=multyply['prob_x']*multyply['prob_y']\n",
        "multyply=multyply.groupby(['state_y','state_next_x']).agg({'prob': 'sum'})\n",
        "multyply=multyply.rename(columns={\"state_y\": \"state\", \"state_next_x\": \"state_next\"})\n",
        "multyply"
      ],
      "execution_count": 33,
      "outputs": [
        {
          "output_type": "execute_result",
          "data": {
            "text/html": [
              "<div>\n",
              "<style scoped>\n",
              "    .dataframe tbody tr th:only-of-type {\n",
              "        vertical-align: middle;\n",
              "    }\n",
              "\n",
              "    .dataframe tbody tr th {\n",
              "        vertical-align: top;\n",
              "    }\n",
              "\n",
              "    .dataframe thead th {\n",
              "        text-align: right;\n",
              "    }\n",
              "</style>\n",
              "<table border=\"1\" class=\"dataframe\">\n",
              "  <thead>\n",
              "    <tr style=\"text-align: right;\">\n",
              "      <th></th>\n",
              "      <th></th>\n",
              "      <th>prob</th>\n",
              "    </tr>\n",
              "    <tr>\n",
              "      <th>state_y</th>\n",
              "      <th>state_next_x</th>\n",
              "      <th></th>\n",
              "    </tr>\n",
              "  </thead>\n",
              "  <tbody>\n",
              "    <tr>\n",
              "      <th rowspan=\"5\" valign=\"top\">0000</th>\n",
              "      <th>0000</th>\n",
              "      <td>0.5625</td>\n",
              "    </tr>\n",
              "    <tr>\n",
              "      <th>0001</th>\n",
              "      <td>0.0375</td>\n",
              "    </tr>\n",
              "    <tr>\n",
              "      <th>0010</th>\n",
              "      <td>0.0195</td>\n",
              "    </tr>\n",
              "    <tr>\n",
              "      <th>0011</th>\n",
              "      <td>0.0305</td>\n",
              "    </tr>\n",
              "    <tr>\n",
              "      <th>deaktywacja</th>\n",
              "      <td>0.3500</td>\n",
              "    </tr>\n",
              "    <tr>\n",
              "      <th>...</th>\n",
              "      <th>...</th>\n",
              "      <td>...</td>\n",
              "    </tr>\n",
              "    <tr>\n",
              "      <th>m8</th>\n",
              "      <th>m10</th>\n",
              "      <td>0.9025</td>\n",
              "    </tr>\n",
              "    <tr>\n",
              "      <th rowspan=\"4\" valign=\"top\">m9</th>\n",
              "      <th>0001</th>\n",
              "      <td>0.0475</td>\n",
              "    </tr>\n",
              "    <tr>\n",
              "      <th>0010</th>\n",
              "      <td>0.0195</td>\n",
              "    </tr>\n",
              "    <tr>\n",
              "      <th>0011</th>\n",
              "      <td>0.0305</td>\n",
              "    </tr>\n",
              "    <tr>\n",
              "      <th>m11</th>\n",
              "      <td>0.9025</td>\n",
              "    </tr>\n",
              "  </tbody>\n",
              "</table>\n",
              "<p>114 rows × 1 columns</p>\n",
              "</div>"
            ],
            "text/plain": [
              "                        prob\n",
              "state_y state_next_x        \n",
              "0000    0000          0.5625\n",
              "        0001          0.0375\n",
              "        0010          0.0195\n",
              "        0011          0.0305\n",
              "        deaktywacja   0.3500\n",
              "...                      ...\n",
              "m8      m10           0.9025\n",
              "m9      0001          0.0475\n",
              "        0010          0.0195\n",
              "        0011          0.0305\n",
              "        m11           0.9025\n",
              "\n",
              "[114 rows x 1 columns]"
            ]
          },
          "metadata": {
            "tags": []
          },
          "execution_count": 33
        }
      ]
    },
    {
      "cell_type": "code",
      "metadata": {
        "id": "42JAw6VA8ulS",
        "colab_type": "code",
        "colab": {
          "base_uri": "https://localhost:8080/",
          "height": 217
        },
        "outputId": "f1af8556-7895-49df-ef27-cebdebf03461"
      },
      "source": [
        "df1 = pd.DataFrame({\"A\": [1, 2, 3], \"B\": [4, 5, 6]})\n",
        "print(df1)\n",
        "df1.rename(columns={\"A\": \"a\", \"B\": \"c\"})"
      ],
      "execution_count": 32,
      "outputs": [
        {
          "output_type": "stream",
          "text": [
            "   A  B\n",
            "0  1  4\n",
            "1  2  5\n",
            "2  3  6\n"
          ],
          "name": "stdout"
        },
        {
          "output_type": "execute_result",
          "data": {
            "text/html": [
              "<div>\n",
              "<style scoped>\n",
              "    .dataframe tbody tr th:only-of-type {\n",
              "        vertical-align: middle;\n",
              "    }\n",
              "\n",
              "    .dataframe tbody tr th {\n",
              "        vertical-align: top;\n",
              "    }\n",
              "\n",
              "    .dataframe thead th {\n",
              "        text-align: right;\n",
              "    }\n",
              "</style>\n",
              "<table border=\"1\" class=\"dataframe\">\n",
              "  <thead>\n",
              "    <tr style=\"text-align: right;\">\n",
              "      <th></th>\n",
              "      <th>a</th>\n",
              "      <th>c</th>\n",
              "    </tr>\n",
              "  </thead>\n",
              "  <tbody>\n",
              "    <tr>\n",
              "      <th>0</th>\n",
              "      <td>1</td>\n",
              "      <td>4</td>\n",
              "    </tr>\n",
              "    <tr>\n",
              "      <th>1</th>\n",
              "      <td>2</td>\n",
              "      <td>5</td>\n",
              "    </tr>\n",
              "    <tr>\n",
              "      <th>2</th>\n",
              "      <td>3</td>\n",
              "      <td>6</td>\n",
              "    </tr>\n",
              "  </tbody>\n",
              "</table>\n",
              "</div>"
            ],
            "text/plain": [
              "   a  c\n",
              "0  1  4\n",
              "1  2  5\n",
              "2  3  6"
            ]
          },
          "metadata": {
            "tags": []
          },
          "execution_count": 32
        }
      ]
    }
  ]
}