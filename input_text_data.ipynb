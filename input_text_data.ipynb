{
  "nbformat": 4,
  "nbformat_minor": 0,
  "metadata": {
    "colab": {
      "name": "Untitled0.ipynb",
      "provenance": [],
      "authorship_tag": "ABX9TyM0o7twkemMUE6/V6yIf5o7",
      "include_colab_link": true
    },
    "kernelspec": {
      "name": "python3",
      "display_name": "Python 3"
    }
  },
  "cells": [
    {
      "cell_type": "markdown",
      "metadata": {
        "id": "view-in-github",
        "colab_type": "text"
      },
      "source": [
        "<a href=\"https://colab.research.google.com/github/mwiewiorko/quantFinance/blob/master/input_text_data.ipynb\" target=\"_parent\"><img src=\"https://colab.research.google.com/assets/colab-badge.svg\" alt=\"Open In Colab\"/></a>"
      ]
    },
    {
      "cell_type": "code",
      "metadata": {
        "id": "gOk5v6sQEzFH",
        "colab_type": "code",
        "colab": {}
      },
      "source": [
        "import numpy as np\n",
        "import pandas as pd"
      ],
      "execution_count": 1,
      "outputs": []
    },
    {
      "cell_type": "code",
      "metadata": {
        "id": "fqpxbzrJ_GjM",
        "colab_type": "code",
        "colab": {}
      },
      "source": [
        "state=['1111','0111','1111','0111','1110','0110','1101','0101','1011','0011','1110','0110','1101','0101','1100','0100','1011','0011','1010','0010','1001','0001','1100','0100','1010','0010','1001','0001','1000','0000','m0','m1','m2','m3','m4','m5','m6','m7','m8','m9','m10','m11','1000','0000','m0','m1','m2','m3','m4','m5','m6','m7','m8','m9','m10','0000','m11','deaktywacja']\n",
        "state_next=['1111','1111','1110','1110','1101','1101','1011','1011','0111','0111','1100','1100','1010','1010','1001','1001','0110','0110','0101','0101','0011','0011','1000','1000','0100','0100','0010','0010','0001','0001','0001','0001','0001','0001','0001','0001','0001','0001','0001','0001','0001','0001','0000','0000','m1','m2','m3','m4','m5','m6','m7','m8','m9','m10','m11','deaktywacja','deaktywacja','deaktywacja']\n",
        "prob=['0,93','0,85','0,07','0,15','0,6','0,6','0,75','0,6','0,76','0,8','0,4','0,4','0,25','0,4','0,31','0,25','0,24','0,2','0,62','0,32','0,68','0,61','0,69','0,75','0,38','0,68','0,32','0,39','0,2','0,05','0,05','0,05','0,05','0,05','0,05','0,05','0,05','0,05','0,05','0,05','0,05','0,05','0,8','0,75','0,95','0,95','0,95','0,95','0,95','0,95','0,95','0,95','0,95','0,95','0,95','0,2','0,95','1']\n",
        "#words = [w.replace('[br]', '<br />') for w in words] #https://stackoverflow.com/questions/3136689/find-and-replace-string-values-in-list\n",
        "prob = [p.replace(',', '.') for p in prob]\n",
        "prob = [float(p) for p in prob]\n"
      ],
      "execution_count": 2,
      "outputs": []
    },
    {
      "cell_type": "code",
      "metadata": {
        "id": "Vrc9LCPmssmg",
        "colab_type": "code",
        "colab": {}
      },
      "source": [
        "# dictionary of lists  \n",
        "dict = {'state': state, 'state_next': state_next, 'prob': prob}  \n",
        "    \n",
        "df_v1 = pd.DataFrame(dict) \n",
        "df_v1\n"
      ],
      "execution_count": null,
      "outputs": []
    },
    {
      "cell_type": "code",
      "metadata": {
        "id": "Biy9JoYmt5Y7",
        "colab_type": "code",
        "colab": {}
      },
      "source": [
        "# Calling DataFrame constructor after zipping \n",
        "# both lists, with columns specified \n",
        "df = pd.DataFrame(list(zip(state, state_next,prob)), \n",
        "               columns =['state', 'state_next','prob']) \n",
        "df "
      ],
      "execution_count": null,
      "outputs": []
    },
    {
      "cell_type": "code",
      "metadata": {
        "id": "SyEVqRhyuCud",
        "colab_type": "code",
        "colab": {}
      },
      "source": [
        "# Try understand zip function\n",
        "print(list(zip(state, state_next)))\n"
      ],
      "execution_count": null,
      "outputs": []
    },
    {
      "cell_type": "code",
      "metadata": {
        "id": "k7zAR90_2wbN",
        "colab_type": "code",
        "colab": {}
      },
      "source": [
        "multyply=pd.merge(df,df,how=\"inner\",left_on=\"state\",right_on=\"state_next\", suffixes=('_x', '_y') )\n",
        "multyply['prob']=multyply['prob_x']*multyply['prob_y']\n",
        "multyply=multyply.groupby(['state_y','state_next_x']).agg({'prob': 'sum'})\n",
        "multyply=multyply.rename(columns={\"state_y\": \"state\", \"state_next_x\": \"state_next\"})\n",
        "print(multyply)\n",
        "mat=multyply.pivot_table(values='prob',index='state_y',columns='state_next_x').fillna(0)\n",
        "\n",
        "print(mat)\n",
        "\n"
      ],
      "execution_count": null,
      "outputs": []
    },
    {
      "cell_type": "code",
      "metadata": {
        "id": "E1z521b_RVxt",
        "colab_type": "code",
        "colab": {
          "base_uri": "https://localhost:8080/",
          "height": 526
        },
        "outputId": "3a3abeff-a359-4454-ee2a-9238401a9207"
      },
      "source": [
        "list(mat.columns) "
      ],
      "execution_count": 13,
      "outputs": [
        {
          "output_type": "execute_result",
          "data": {
            "text/plain": [
              "['0000',\n",
              " '0001',\n",
              " '0010',\n",
              " '0011',\n",
              " '0100',\n",
              " '0101',\n",
              " '0110',\n",
              " '0111',\n",
              " '1000',\n",
              " '1001',\n",
              " '1010',\n",
              " '1011',\n",
              " '1100',\n",
              " '1101',\n",
              " '1110',\n",
              " '1111',\n",
              " 'deaktywacja',\n",
              " 'm10',\n",
              " 'm11',\n",
              " 'm2',\n",
              " 'm3',\n",
              " 'm4',\n",
              " 'm5',\n",
              " 'm6',\n",
              " 'm7',\n",
              " 'm8',\n",
              " 'm9']"
            ]
          },
          "metadata": {
            "tags": []
          },
          "execution_count": 13
        }
      ]
    },
    {
      "cell_type": "code",
      "metadata": {
        "id": "42JAw6VA8ulS",
        "colab_type": "code",
        "colab": {
          "base_uri": "https://localhost:8080/",
          "height": 217
        },
        "outputId": "f1af8556-7895-49df-ef27-cebdebf03461"
      },
      "source": [
        "df1 = pd.DataFrame({\"A\": [1, 2, 3], \"B\": [4, 5, 6]})\n",
        "print(df1)\n",
        "df1.rename(columns={\"A\": \"a\", \"B\": \"c\"})"
      ],
      "execution_count": null,
      "outputs": [
        {
          "output_type": "stream",
          "text": [
            "   A  B\n",
            "0  1  4\n",
            "1  2  5\n",
            "2  3  6\n"
          ],
          "name": "stdout"
        },
        {
          "output_type": "execute_result",
          "data": {
            "text/html": [
              "<div>\n",
              "<style scoped>\n",
              "    .dataframe tbody tr th:only-of-type {\n",
              "        vertical-align: middle;\n",
              "    }\n",
              "\n",
              "    .dataframe tbody tr th {\n",
              "        vertical-align: top;\n",
              "    }\n",
              "\n",
              "    .dataframe thead th {\n",
              "        text-align: right;\n",
              "    }\n",
              "</style>\n",
              "<table border=\"1\" class=\"dataframe\">\n",
              "  <thead>\n",
              "    <tr style=\"text-align: right;\">\n",
              "      <th></th>\n",
              "      <th>a</th>\n",
              "      <th>c</th>\n",
              "    </tr>\n",
              "  </thead>\n",
              "  <tbody>\n",
              "    <tr>\n",
              "      <th>0</th>\n",
              "      <td>1</td>\n",
              "      <td>4</td>\n",
              "    </tr>\n",
              "    <tr>\n",
              "      <th>1</th>\n",
              "      <td>2</td>\n",
              "      <td>5</td>\n",
              "    </tr>\n",
              "    <tr>\n",
              "      <th>2</th>\n",
              "      <td>3</td>\n",
              "      <td>6</td>\n",
              "    </tr>\n",
              "  </tbody>\n",
              "</table>\n",
              "</div>"
            ],
            "text/plain": [
              "   a  c\n",
              "0  1  4\n",
              "1  2  5\n",
              "2  3  6"
            ]
          },
          "metadata": {
            "tags": []
          },
          "execution_count": 32
        }
      ]
    }
  ]
}