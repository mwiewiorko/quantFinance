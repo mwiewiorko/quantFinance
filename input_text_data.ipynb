{
  "nbformat": 4,
  "nbformat_minor": 0,
  "metadata": {
    "colab": {
      "name": "Untitled0.ipynb",
      "provenance": [],
      "authorship_tag": "ABX9TyNjRvMtorq9PFao6zVA26rD",
      "include_colab_link": true
    },
    "kernelspec": {
      "name": "python3",
      "display_name": "Python 3"
    }
  },
  "cells": [
    {
      "cell_type": "markdown",
      "metadata": {
        "id": "view-in-github",
        "colab_type": "text"
      },
      "source": [
        "<a href=\"https://colab.research.google.com/github/mwiewiorko/quantFinance/blob/master/input_text_data.ipynb\" target=\"_parent\"><img src=\"https://colab.research.google.com/assets/colab-badge.svg\" alt=\"Open In Colab\"/></a>"
      ]
    },
    {
      "cell_type": "code",
      "metadata": {
        "id": "gOk5v6sQEzFH",
        "colab_type": "code",
        "colab": {}
      },
      "source": [
        "import numpy as np"
      ],
      "execution_count": 1,
      "outputs": []
    },
    {
      "cell_type": "code",
      "metadata": {
        "id": "fqpxbzrJ_GjM",
        "colab_type": "code",
        "colab": {}
      },
      "source": [
        "state=['1111','0111','1111','0111','1110','0110','1101','0101','1011','0011','1110','0110','1101','0101','1100','0100','1011','0011','1010','0010','1001','0001','1100','0100','1010','0010','1001','0001','1000','0000','m0','m1','m2','m3','m4','m5','m6','m7','m8','m9','m10','m11','1000','0000','m0','m1','m2','m3','m4','m5','m6','m7','m8','m9','m10','0000','m11','deaktywacja']\n",
        "state_next=['1111','1111','1110','1110','1101','1101','1011','1011','0111','0111','1100','1100','1010','1010','1001','1001','0110','0110','0101','0101','0011','0011','1000','1000','0100','0100','0010','0010','0001','0001','0001','0001','0001','0001','0001','0001','0001','0001','0001','0001','0001','0001','0000','0000','m1','m2','m3','m4','m5','m6','m7','m8','m9','m10','m11','deaktywacja','deaktywacja','deaktywacja']\n",
        "prob=['0,93','0,85','0,07','0,15','0,6','0,6','0,75','0,6','0,76','0,8','0,4','0,4','0,25','0,4','0,31','0,25','0,24','0,2','0,62','0,32','0,68','0,61','0,69','0,75','0,38','0,68','0,32','0,39','0,2','0,05','0,05','0,05','0,05','0,05','0,05','0,05','0,05','0,05','0,05','0,05','0,05','0,05','0,8','0,75','0,95','0,95','0,95','0,95','0,95','0,95','0,95','0,95','0,95','0,95','0,95','0,2','0,95','1']\n",
        "#words = [w.replace('[br]', '<br />') for w in words] #https://stackoverflow.com/questions/3136689/find-and-replace-string-values-in-list\n",
        "prob = [p.replace(',', '.') for p in prob]\n",
        "prob = [float(p) for p in prob]\n"
      ],
      "execution_count": 17,
      "outputs": []
    },
    {
      "cell_type": "code",
      "metadata": {
        "id": "1flIdj-RBTvF",
        "colab_type": "code",
        "colab": {
          "base_uri": "https://localhost:8080/",
          "height": 1000
        },
        "outputId": "c051781a-a40b-43c6-b086-9fcf55dcdde1"
      },
      "source": [
        "prob"
      ],
      "execution_count": 18,
      "outputs": [
        {
          "output_type": "execute_result",
          "data": {
            "text/plain": [
              "[0.93,\n",
              " 0.85,\n",
              " 0.07,\n",
              " 0.15,\n",
              " 0.6,\n",
              " 0.6,\n",
              " 0.75,\n",
              " 0.6,\n",
              " 0.76,\n",
              " 0.8,\n",
              " 0.4,\n",
              " 0.4,\n",
              " 0.25,\n",
              " 0.4,\n",
              " 0.31,\n",
              " 0.25,\n",
              " 0.24,\n",
              " 0.2,\n",
              " 0.62,\n",
              " 0.32,\n",
              " 0.68,\n",
              " 0.61,\n",
              " 0.69,\n",
              " 0.75,\n",
              " 0.38,\n",
              " 0.68,\n",
              " 0.32,\n",
              " 0.39,\n",
              " 0.2,\n",
              " 0.05,\n",
              " 0.05,\n",
              " 0.05,\n",
              " 0.05,\n",
              " 0.05,\n",
              " 0.05,\n",
              " 0.05,\n",
              " 0.05,\n",
              " 0.05,\n",
              " 0.05,\n",
              " 0.05,\n",
              " 0.05,\n",
              " 0.05,\n",
              " 0.8,\n",
              " 0.75,\n",
              " 0.95,\n",
              " 0.95,\n",
              " 0.95,\n",
              " 0.95,\n",
              " 0.95,\n",
              " 0.95,\n",
              " 0.95,\n",
              " 0.95,\n",
              " 0.95,\n",
              " 0.95,\n",
              " 0.95,\n",
              " 0.2,\n",
              " 0.95,\n",
              " 1.0]"
            ]
          },
          "metadata": {
            "tags": []
          },
          "execution_count": 18
        }
      ]
    }
  ]
}