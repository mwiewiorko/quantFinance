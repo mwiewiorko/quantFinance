{
  "nbformat": 4,
  "nbformat_minor": 0,
  "metadata": {
    "colab": {
      "name": "Untitled0.ipynb",
      "provenance": [],
      "include_colab_link": true
    },
    "kernelspec": {
      "name": "python3",
      "display_name": "Python 3"
    }
  },
  "cells": [
    {
      "cell_type": "markdown",
      "metadata": {
        "id": "view-in-github",
        "colab_type": "text"
      },
      "source": [
        "<a href=\"https://colab.research.google.com/github/mwiewiorko/quantFinance/blob/master/1_model_process_with_trans_matrix_v_simple.ipynb\" target=\"_parent\"><img src=\"https://colab.research.google.com/assets/colab-badge.svg\" alt=\"Open In Colab\"/></a>"
      ]
    },
    {
      "cell_type": "code",
      "metadata": {
        "id": "gOk5v6sQEzFH",
        "colab_type": "code",
        "colab": {}
      },
      "source": [
        "import numpy as np\n",
        "import pandas as pd"
      ],
      "execution_count": 1,
      "outputs": []
    },
    {
      "cell_type": "code",
      "metadata": {
        "id": "fqpxbzrJ_GjM",
        "colab_type": "code",
        "colab": {}
      },
      "source": [
        "state=['1111','0111','1111','0111','1110','0110','1101','0101','1011','0011','1110','0110','1101','0101','1100','0100','1011','0011','1010','0010','1001','0001','1100','0100','1010','0010','1001','0001','1000','0000','m0','m1','m2','m3','m4','m5','m6','m7','m8','m9','m10','m11','1000','0000','m0','m1','m2','m3','m4','m5','m6','m7','m8','m9','m10','0000','m11','deaktywacja']\n",
        "state_next=['1111','1111','1110','1110','1101','1101','1011','1011','0111','0111','1100','1100','1010','1010','1001','1001','0110','0110','0101','0101','0011','0011','1000','1000','0100','0100','0010','0010','0001','0001','0001','0001','0001','0001','0001','0001','0001','0001','0001','0001','0001','0001','0000','0000','m1','m2','m3','m4','m5','m6','m7','m8','m9','m10','m11','deaktywacja','deaktywacja','deaktywacja']\n",
        "prob=['0,93','0,85','0,07','0,15','0,6','0,6','0,75','0,6','0,76','0,8','0,4','0,4','0,25','0,4','0,31','0,25','0,24','0,2','0,62','0,32','0,68','0,61','0,69','0,75','0,38','0,68','0,32','0,39','0,2','0,05','0,05','0,05','0,05','0,05','0,05','0,05','0,05','0,05','0,05','0,05','0,05','0,05','0,8','0,75','0,95','0,95','0,95','0,95','0,95','0,95','0,95','0,95','0,95','0,95','0,95','0,2','0,95','1']\n",
        "#words = [w.replace('[br]', '<br />') for w in words] #https://stackoverflow.com/questions/3136689/find-and-replace-string-values-in-list\n",
        "prob = [p.replace(',', '.') for p in prob]\n",
        "prob = [float(p) for p in prob]\n"
      ],
      "execution_count": 2,
      "outputs": []
    },
    {
      "cell_type": "code",
      "metadata": {
        "id": "LSU51gtwjQnx",
        "colab_type": "code",
        "colab": {}
      },
      "source": [
        "# inicial cases\n",
        "n=10000\n",
        "cases=pd.DataFrame(\n",
        "    {\n",
        "        'id':range(n),\n",
        "        'balance_capital':np.random.uniform(1000,10000,n),\n",
        "        'balance_interest':np.random.uniform(0,1000,n),\n",
        "        'balance_other':np.random.uniform(0,500,n),\n",
        "        'expected_payment':np.random.uniform(10,500,n),\n",
        "        'state':np.random.choice(state,n)\n",
        "    }\n",
        ")\n",
        "#cases\n"
      ],
      "execution_count": null,
      "outputs": []
    },
    {
      "cell_type": "code",
      "metadata": {
        "id": "Vrc9LCPmssmg",
        "colab_type": "code",
        "colab": {}
      },
      "source": [
        "# Input data   \n",
        "transitions_matrix = pd.DataFrame({'s_0': state, 's_1': state_next, 'p': prob}) \n",
        "#df.loc[:,\"s_n+1\"]\n",
        "#transitions_matrix"
      ],
      "execution_count": null,
      "outputs": []
    },
    {
      "cell_type": "code",
      "metadata": {
        "id": "wQAzB3SRbiFt",
        "colab_type": "code",
        "colab": {}
      },
      "source": [
        "#DEF of functions\n",
        "### Def function to multiply matrixes in form of tables\n",
        "def f_multiply_matrix(t_1,t_2,s_0='s_0',s_1='s_1'):\n",
        "  import pandas as pd\n",
        "  v_multiply = pd.merge(t_1,t_2,how=\"inner\",left_on=s_0,right_on=s_1, suffixes=('_x', '_y') )\n",
        "  v_multiply['p']=v_multiply['p_x']*v_multiply['p_y']\n",
        "  v_multiply=v_multiply.groupby([s_0+'_y',s_1+'_x'],as_index=False).agg({'p': 'sum'})\n",
        "  #v_multiply=v_multiply.rename(columns={[s_0+'_y': s_0, s_1+'_x': s_1})\n",
        "  v_multiply.columns =v_multiply.columns.str.replace(r'_.$', '')\n",
        "  return v_multiply\n",
        "\n",
        "### If payment state\n",
        "def f_if_payment_state(x):\n",
        "  v_payment=0\n",
        "  if x.isdigit():\n",
        "    if x[-1]=='1':\n",
        "      #print(\"ok\")\n",
        "      v_payment=1\n",
        "  return v_payment\n",
        "  \n"
      ],
      "execution_count": 62,
      "outputs": []
    },
    {
      "cell_type": "code",
      "metadata": {
        "id": "WgT1LSbTeaMr",
        "colab_type": "code",
        "colab": {
          "base_uri": "https://localhost:8080/",
          "height": 54
        },
        "outputId": "34e445d7-81f9-4728-ef14-620a7fe2d46a"
      },
      "source": [
        "#TEST FUNCTIONS\n",
        "#f_multiply_matrix(transitions_matrix,transitions_matrix)\n",
        "x='010'\n",
        "print(x[-1])\n",
        "f_if_payment_state(x)"
      ],
      "execution_count": 65,
      "outputs": [
        {
          "output_type": "stream",
          "text": [
            "0\n"
          ],
          "name": "stdout"
        },
        {
          "output_type": "execute_result",
          "data": {
            "text/plain": [
              "0"
            ]
          },
          "metadata": {
            "tags": []
          },
          "execution_count": 65
        }
      ]
    },
    {
      "cell_type": "code",
      "metadata": {
        "id": "E1z521b_RVxt",
        "colab_type": "code",
        "colab": {}
      },
      "source": [
        "# calc expected payments\n",
        "## Agregate cases\n",
        "\n",
        "result=cases.groupby(['state'],as_index=False).sum().drop('id', 1)#agg({'balance_capital': 'sum'})\n",
        "result[\"time\"]=0\n",
        "result\n",
        "\n",
        "for i in range(1,2):\n",
        "  actual_state=result[result.time.eq(i-1)]\n",
        "  next_state=pd.merge(actual_state,transitions_matrix,how=\"inner\",left_on='state',right_on='s_0', suffixes=('_x', '_y') ) \n",
        "  next_state.time=i\n",
        "  next_state.state=next_state.s_1\n",
        "  next_state.balance_capital=next_state.balance_capital*next_state.p\n",
        "  next_state.balance_interest=next_state.balance_interest*next_state.p\n",
        "  next_state.balance_other=next_state.balance_other*next_state.p\n",
        "  next_state.expected_payment=next_state.expected_payment*next_state.p\n",
        "\n",
        "next_state\n",
        "\n"
      ],
      "execution_count": null,
      "outputs": []
    },
    {
      "cell_type": "code",
      "metadata": {
        "id": "cQvroRefwUW7",
        "colab_type": "code",
        "colab": {
          "base_uri": "https://localhost:8080/",
          "height": 36
        },
        "outputId": "23aa9781-767c-4351-a5ff-7cd6c200d8e4"
      },
      "source": [
        "# result=cases.groupby(['state'],as_index=False).sum().drop('id', 1)#agg({'balance_capital': 'sum'})\n",
        "# result[\"time\"]=0\n",
        "# result\n",
        "# actual_state=result[result.time.eq(0)]\n",
        "# actual_state\n",
        "pom_chr='abcdefghijk'\n",
        "pom_chr[-1]\n",
        "pom_chr.isdigit()\n"
      ],
      "execution_count": 46,
      "outputs": [
        {
          "output_type": "execute_result",
          "data": {
            "text/plain": [
              "False"
            ]
          },
          "metadata": {
            "tags": []
          },
          "execution_count": 46
        }
      ]
    }
  ]
}