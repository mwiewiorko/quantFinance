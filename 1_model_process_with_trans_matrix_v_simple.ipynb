{
  "nbformat": 4,
  "nbformat_minor": 0,
  "metadata": {
    "colab": {
      "name": "Untitled0.ipynb",
      "provenance": [],
      "include_colab_link": true
    },
    "kernelspec": {
      "name": "python3",
      "display_name": "Python 3"
    }
  },
  "cells": [
    {
      "cell_type": "markdown",
      "metadata": {
        "id": "view-in-github",
        "colab_type": "text"
      },
      "source": [
        "<a href=\"https://colab.research.google.com/github/mwiewiorko/quantFinance/blob/master/1_model_process_with_trans_matrix_v_simple.ipynb\" target=\"_parent\"><img src=\"https://colab.research.google.com/assets/colab-badge.svg\" alt=\"Open In Colab\"/></a>"
      ]
    },
    {
      "cell_type": "code",
      "metadata": {
        "id": "gOk5v6sQEzFH",
        "colab_type": "code",
        "colab": {}
      },
      "source": [
        "import numpy as np\n",
        "import pandas as pd"
      ],
      "execution_count": 1,
      "outputs": []
    },
    {
      "cell_type": "code",
      "metadata": {
        "id": "fqpxbzrJ_GjM",
        "colab_type": "code",
        "colab": {}
      },
      "source": [
        "state=['1111','0111','1111','0111','1110','0110','1101','0101','1011','0011','1110','0110','1101','0101','1100','0100','1011','0011','1010','0010','1001','0001','1100','0100','1010','0010','1001','0001','1000','0000','m0','m1','m2','m3','m4','m5','m6','m7','m8','m9','m10','m11','1000','0000','m0','m1','m2','m3','m4','m5','m6','m7','m8','m9','m10','0000','m11','deaktywacja']\n",
        "state_next=['1111','1111','1110','1110','1101','1101','1011','1011','0111','0111','1100','1100','1010','1010','1001','1001','0110','0110','0101','0101','0011','0011','1000','1000','0100','0100','0010','0010','0001','0001','0001','0001','0001','0001','0001','0001','0001','0001','0001','0001','0001','0001','0000','0000','m1','m2','m3','m4','m5','m6','m7','m8','m9','m10','m11','deaktywacja','deaktywacja','deaktywacja']\n",
        "prob=['0,93','0,85','0,07','0,15','0,6','0,6','0,75','0,6','0,76','0,8','0,4','0,4','0,25','0,4','0,31','0,25','0,24','0,2','0,62','0,32','0,68','0,61','0,69','0,75','0,38','0,68','0,32','0,39','0,2','0,05','0,05','0,05','0,05','0,05','0,05','0,05','0,05','0,05','0,05','0,05','0,05','0,05','0,8','0,75','0,95','0,95','0,95','0,95','0,95','0,95','0,95','0,95','0,95','0,95','0,95','0,2','0,95','1']\n",
        "#words = [w.replace('[br]', '<br />') for w in words] #https://stackoverflow.com/questions/3136689/find-and-replace-string-values-in-list\n",
        "prob = [p.replace(',', '.') for p in prob]\n",
        "prob = [float(p) for p in prob]\n"
      ],
      "execution_count": 3,
      "outputs": []
    },
    {
      "cell_type": "code",
      "metadata": {
        "id": "LSU51gtwjQnx",
        "colab_type": "code",
        "colab": {}
      },
      "source": [
        "# inicial cases\n",
        "n=10000\n",
        "cases=pd.DataFrame(\n",
        "    {\n",
        "        'id':range(n),\n",
        "        'balance_capital':np.random.uniform(1000,10000,n),\n",
        "        'balance_interest':np.random.uniform(0,1000,n),\n",
        "        'balance_other':np.random.uniform(0,500,n),\n",
        "        'expected_payment':np.random.uniform(10,500,n),\n",
        "        'state':np.random.choice(state,n)\n",
        "    }\n",
        ")\n",
        "#cases\n"
      ],
      "execution_count": 4,
      "outputs": []
    },
    {
      "cell_type": "code",
      "metadata": {
        "id": "Vrc9LCPmssmg",
        "colab_type": "code",
        "colab": {}
      },
      "source": [
        "# Input data   \n",
        "transitions_matrix = pd.DataFrame({'s_0': state, 's_1': state_next, 'p': prob}) \n",
        "#df.loc[:,\"s_n+1\"]\n",
        "#transitions_matrix"
      ],
      "execution_count": 6,
      "outputs": []
    },
    {
      "cell_type": "code",
      "metadata": {
        "id": "wQAzB3SRbiFt",
        "colab_type": "code",
        "colab": {}
      },
      "source": [
        "#DEF of functions\n",
        "### Def function to multiply matrixes in form of tables\n",
        "def f_multiply_matrix(t_1,t_2,s_0='s_0',s_1='s_1'):\n",
        "  import pandas as pd\n",
        "  v_multiply = pd.merge(t_1,t_2,how=\"inner\",left_on=s_0,right_on=s_1, suffixes=('_x', '_y') )\n",
        "  v_multiply['p']=v_multiply['p_x']*v_multiply['p_y']\n",
        "  v_multiply=v_multiply.groupby([s_0+'_y',s_1+'_x'],as_index=False).agg({'p': 'sum'})\n",
        "  #v_multiply=v_multiply.rename(columns={[s_0+'_y': s_0, s_1+'_x': s_1})\n",
        "  v_multiply.columns =v_multiply.columns.str.replace(r'_.$', '')\n",
        "  return v_multiply\n",
        "\n",
        "### If payment state\n",
        "def f_if_payment_state(x):\n",
        "  v_payment=0\n",
        "  if x.isdigit():\n",
        "    if x[-1]=='1':\n",
        "      #print(\"ok\")\n",
        "      v_payment=1\n",
        "  return v_payment\n",
        "  \n",
        "### Calc balance for \n",
        "def f_book_payments(capital,interest,other,payment):\n",
        "  import numpy as np\n",
        "  import pandas as pd\n",
        "  # Asumption that capital>0,interest>0,other>0\n",
        "  payment_other=payment\n",
        "  payment_interest=np.maximum(payment_other-other, 0)\n",
        "  other_new=np.maximum(other-payment_other,0)\n",
        "  payment_capital=np.maximum(payment_interest-interest, 0)\n",
        "  interest_new=np.maximum(interest-payment_interest,0)\n",
        "  capital_new=np.maximum(capital-payment_capital,0) \n",
        "  payments_final=capital-capital_new+interest-interest_new+other-other_new\n",
        "  return  pd.DataFrame({'capital': capital_new,'interest': interest_new,'other': other_new, 'payment': payments_final })"
      ],
      "execution_count": 25,
      "outputs": []
    },
    {
      "cell_type": "code",
      "metadata": {
        "id": "WgT1LSbTeaMr",
        "colab_type": "code",
        "colab": {
          "base_uri": "https://localhost:8080/",
          "height": 143
        },
        "outputId": "de4b7165-5c6e-49fe-868f-15998a2d932c"
      },
      "source": [
        "#TEST FUNCTIONS\n",
        "######f_multiply_matrix\n",
        "#f_multiply_matrix(transitions_matrix,transitions_matrix)\n",
        "######f_if_payment_state\n",
        "# x='010'\n",
        "# print(x[-1])\n",
        "# f_if_payment_state(x)\n",
        "###### f_book_payments\n",
        "test_c=pd.Series([1000,100,10])\n",
        "test_i=pd.Series([0,100,0])\n",
        "test_o=pd.Series([100,0,10])\n",
        "test_p=pd.Series([500,110,100])\n",
        "f_book_payments(test_c,test_i,test_o,test_p)"
      ],
      "execution_count": 28,
      "outputs": [
        {
          "output_type": "execute_result",
          "data": {
            "text/html": [
              "<div>\n",
              "<style scoped>\n",
              "    .dataframe tbody tr th:only-of-type {\n",
              "        vertical-align: middle;\n",
              "    }\n",
              "\n",
              "    .dataframe tbody tr th {\n",
              "        vertical-align: top;\n",
              "    }\n",
              "\n",
              "    .dataframe thead th {\n",
              "        text-align: right;\n",
              "    }\n",
              "</style>\n",
              "<table border=\"1\" class=\"dataframe\">\n",
              "  <thead>\n",
              "    <tr style=\"text-align: right;\">\n",
              "      <th></th>\n",
              "      <th>capital</th>\n",
              "      <th>interest</th>\n",
              "      <th>other</th>\n",
              "      <th>payment</th>\n",
              "    </tr>\n",
              "  </thead>\n",
              "  <tbody>\n",
              "    <tr>\n",
              "      <th>0</th>\n",
              "      <td>600</td>\n",
              "      <td>0</td>\n",
              "      <td>0</td>\n",
              "      <td>500</td>\n",
              "    </tr>\n",
              "    <tr>\n",
              "      <th>1</th>\n",
              "      <td>90</td>\n",
              "      <td>0</td>\n",
              "      <td>0</td>\n",
              "      <td>110</td>\n",
              "    </tr>\n",
              "    <tr>\n",
              "      <th>2</th>\n",
              "      <td>0</td>\n",
              "      <td>0</td>\n",
              "      <td>0</td>\n",
              "      <td>20</td>\n",
              "    </tr>\n",
              "  </tbody>\n",
              "</table>\n",
              "</div>"
            ],
            "text/plain": [
              "   capital  interest  other  payment\n",
              "0      600         0      0      500\n",
              "1       90         0      0      110\n",
              "2        0         0      0       20"
            ]
          },
          "metadata": {
            "tags": []
          },
          "execution_count": 28
        }
      ]
    },
    {
      "cell_type": "code",
      "metadata": {
        "id": "E1z521b_RVxt",
        "colab_type": "code",
        "colab": {
          "base_uri": "https://localhost:8080/",
          "height": 1000
        },
        "outputId": "162a92af-9794-443a-ae43-ee4a382e452b"
      },
      "source": [
        "# calc expected payments\n",
        "## Agregate cases\n",
        "\n",
        "result=cases.groupby(['state'],as_index=False).sum().drop('id', 1)#agg({'balance_capital': 'sum'})\n",
        "result[\"time\"]=0\n",
        "result[\"payment\"]=0\n",
        "print(result)\n",
        "\n",
        "for i in range(1,3):\n",
        "  print(i)\n",
        "  actual_state=result[result.time.eq(i-1)]\n",
        "  next_state=pd.merge(actual_state,transitions_matrix,how=\"inner\",left_on='state',right_on='s_0', suffixes=('_x', '_y') ) \n",
        "  next_state.time=i\n",
        "  next_state.state=next_state.s_1\n",
        "  next_state.balance_capital=next_state.balance_capital*next_state.p\n",
        "  next_state.balance_interest=next_state.balance_interest*next_state.p\n",
        "  next_state.balance_other=next_state.balance_other*next_state.p\n",
        "  next_state.expected_payment=next_state.expected_payment*next_state.p\n",
        "  next_state[\"payment\"]=next_state.state.map(f_if_payment_state)*next_state.expected_payment\n",
        "  new_balance=f_book_payments(next_state.balance_capital,next_state.balance_interest,next_state.balance_other,next_state.payment)\n",
        "  next_state.balance_capital=new_balance.capital\n",
        "  next_state.balance_interest=new_balance.interest\n",
        "  next_state.balance_other=new_balance.other\n",
        "  next_state.payment=new_balance.payment\n",
        "  # drop innecesery cols\n",
        "  next_state=next_state.drop(['s_0','s_1'], inplace=True, axis=1)\n",
        "  result=result.append(next_state)\n",
        "\n",
        "print(result)\n",
        "print(next_state)\n",
        "\n"
      ],
      "execution_count": 43,
      "outputs": [
        {
          "output_type": "stream",
          "text": [
            "          state  balance_capital  ...  time  payment\n",
            "0          0000     2.774597e+06  ...     0        0\n",
            "1          0001     1.830673e+06  ...     0        0\n",
            "2          0010     1.937245e+06  ...     0        0\n",
            "3          0011     1.809078e+06  ...     0        0\n",
            "4          0100     1.854821e+06  ...     0        0\n",
            "5          0101     1.922490e+06  ...     0        0\n",
            "6          0110     1.807185e+06  ...     0        0\n",
            "7          0111     1.951468e+06  ...     0        0\n",
            "8          1000     1.813888e+06  ...     0        0\n",
            "9          1001     2.056140e+06  ...     0        0\n",
            "10         1010     1.886624e+06  ...     0        0\n",
            "11         1011     2.087190e+06  ...     0        0\n",
            "12         1100     1.804746e+06  ...     0        0\n",
            "13         1101     1.867034e+06  ...     0        0\n",
            "14         1110     1.979085e+06  ...     0        0\n",
            "15         1111     1.774297e+06  ...     0        0\n",
            "16  deaktywacja     9.752088e+05  ...     0        0\n",
            "17           m0     1.817948e+06  ...     0        0\n",
            "18           m1     1.894188e+06  ...     0        0\n",
            "19          m10     1.789882e+06  ...     0        0\n",
            "20          m11     1.840715e+06  ...     0        0\n",
            "21           m2     2.151814e+06  ...     0        0\n",
            "22           m3     1.856171e+06  ...     0        0\n",
            "23           m4     1.906879e+06  ...     0        0\n",
            "24           m5     1.926872e+06  ...     0        0\n",
            "25           m6     1.841649e+06  ...     0        0\n",
            "26           m7     1.730615e+06  ...     0        0\n",
            "27           m8     2.204826e+06  ...     0        0\n",
            "28           m9     1.793504e+06  ...     0        0\n",
            "\n",
            "[29 rows x 7 columns]\n",
            "1\n",
            "2\n",
            "          state  balance_capital  ...  time  payment\n",
            "0          0000     2.774597e+06  ...     0        0\n",
            "1          0001     1.830673e+06  ...     0        0\n",
            "2          0010     1.937245e+06  ...     0        0\n",
            "3          0011     1.809078e+06  ...     0        0\n",
            "4          0100     1.854821e+06  ...     0        0\n",
            "5          0101     1.922490e+06  ...     0        0\n",
            "6          0110     1.807185e+06  ...     0        0\n",
            "7          0111     1.951468e+06  ...     0        0\n",
            "8          1000     1.813888e+06  ...     0        0\n",
            "9          1001     2.056140e+06  ...     0        0\n",
            "10         1010     1.886624e+06  ...     0        0\n",
            "11         1011     2.087190e+06  ...     0        0\n",
            "12         1100     1.804746e+06  ...     0        0\n",
            "13         1101     1.867034e+06  ...     0        0\n",
            "14         1110     1.979085e+06  ...     0        0\n",
            "15         1111     1.774297e+06  ...     0        0\n",
            "16  deaktywacja     9.752088e+05  ...     0        0\n",
            "17           m0     1.817948e+06  ...     0        0\n",
            "18           m1     1.894188e+06  ...     0        0\n",
            "19          m10     1.789882e+06  ...     0        0\n",
            "20          m11     1.840715e+06  ...     0        0\n",
            "21           m2     2.151814e+06  ...     0        0\n",
            "22           m3     1.856171e+06  ...     0        0\n",
            "23           m4     1.906879e+06  ...     0        0\n",
            "24           m5     1.926872e+06  ...     0        0\n",
            "25           m6     1.841649e+06  ...     0        0\n",
            "26           m7     1.730615e+06  ...     0        0\n",
            "27           m8     2.204826e+06  ...     0        0\n",
            "28           m9     1.793504e+06  ...     0        0\n",
            "\n",
            "[29 rows x 7 columns]\n",
            "None\n"
          ],
          "name": "stdout"
        }
      ]
    },
    {
      "cell_type": "code",
      "metadata": {
        "id": "cQvroRefwUW7",
        "colab_type": "code",
        "colab": {
          "base_uri": "https://localhost:8080/",
          "height": 54
        },
        "outputId": "d963de85-6972-44bd-9036-9acf379408c2"
      },
      "source": [
        "# result=cases.groupby(['state'],as_index=False).sum().drop('id', 1)#agg({'balance_capital': 'sum'})\n",
        "# result[\"time\"]=0\n",
        "# result\n",
        "# actual_state=result[result.time.eq(0)]\n",
        "# actual_state\n",
        "# pom_chr='abcdefghijk'\n",
        "# pom_chr[-1]\n",
        "# pom_chr.isdigit()\n",
        "# print(actual_state)\n",
        "# actual_state.state.map(f_if_payment_state)\n",
        "for i in range(1,3):\n",
        "  print(i)"
      ],
      "execution_count": 44,
      "outputs": [
        {
          "output_type": "stream",
          "text": [
            "1\n",
            "2\n"
          ],
          "name": "stdout"
        }
      ]
    }
  ]
}