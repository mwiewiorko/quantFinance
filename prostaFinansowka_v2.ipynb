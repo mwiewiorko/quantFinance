{
  "nbformat": 4,
  "nbformat_minor": 0,
  "metadata": {
    "colab": {
      "name": "Copy of prostaFinansowka.ipynb",
      "provenance": [],
      "collapsed_sections": [],
      "include_colab_link": true
    },
    "kernelspec": {
      "name": "python3",
      "display_name": "Python 3"
    }
  },
  "cells": [
    {
      "cell_type": "markdown",
      "metadata": {
        "id": "view-in-github",
        "colab_type": "text"
      },
      "source": [
        "<a href=\"https://colab.research.google.com/github/mwiewiorko/quantFinance/blob/master/prostaFinansowka_v2.ipynb\" target=\"_parent\"><img src=\"https://colab.research.google.com/assets/colab-badge.svg\" alt=\"Open In Colab\"/></a>"
      ]
    },
    {
      "cell_type": "code",
      "metadata": {
        "id": "9FggW47dhG69",
        "colab_type": "code",
        "colab": {}
      },
      "source": [
        "import datetime\n",
        "import numpy as np\n"
      ],
      "execution_count": null,
      "outputs": []
    },
    {
      "cell_type": "code",
      "metadata": {
        "id": "A4MPVBXWcc4S",
        "colab_type": "code",
        "colab": {}
      },
      "source": [
        "class Balance:\n",
        "  def __init__(self,d_date,capital,interest,other):\n",
        "    self.d_date=d_date\n",
        "    self.capital=capital\n",
        "    self.interest=interest\n",
        "    self.other=other\n",
        "\n",
        "  def addBalance(self,add_capital,add_interest,add_other):\n",
        "    self.capital+=add_capital\n",
        "    self.interest+=add_interest\n",
        "    self.other+=add_other\n",
        "  \n",
        "  def getCurrentBalance(self):\n",
        "    a=self.capital+self.interest+self.other\n",
        "    return a\n",
        "\n",
        "  def showCurrentState(self):\n",
        "    print(f\"data: {self.d_date} \\n capital: {self.capital} \\n interest: {self.interest} \\n other: {self.other}\")\n",
        "\n",
        "  def move2date(self,new_date,interest_rate):\n",
        "    if self.d_date>=new_date:\n",
        "      print(\"Can't perform that operation. new_date is before current state.\")\n",
        "    else:\n",
        "      time_interval=(new_date-self.d_date).days\n",
        "      #print(time_interval.days)\n",
        "      #time_interval=time_interval.days\n",
        "      add_interest=self.capital*(time_interval/365.)*interest_rate\n",
        "      self.interest+=add_interest\n",
        "    \n",
        "    return self\n",
        "\n",
        "\n"
      ],
      "execution_count": null,
      "outputs": []
    },
    {
      "cell_type": "code",
      "metadata": {
        "id": "x43m4VmwgFpH",
        "colab_type": "code",
        "colab": {
          "base_uri": "https://localhost:8080/",
          "height": 35
        },
        "outputId": "2f0bfd1e-b2a4-4b2b-a98e-2752d2a65823"
      },
      "source": [
        "dt=datetime.datetime(2020, 5, 17)-datetime.datetime(2020, 5, 15)\n",
        "dt.days"
      ],
      "execution_count": null,
      "outputs": [
        {
          "output_type": "execute_result",
          "data": {
            "text/plain": [
              "2"
            ]
          },
          "metadata": {
            "tags": []
          },
          "execution_count": 5
        }
      ]
    },
    {
      "cell_type": "code",
      "metadata": {
        "id": "880fjU-ogyQZ",
        "colab_type": "code",
        "colab": {}
      },
      "source": [
        "d=datetime.datetime(2020, 5, 17)\n",
        "a=Balance(d,1000,0,200)"
      ],
      "execution_count": null,
      "outputs": []
    },
    {
      "cell_type": "code",
      "metadata": {
        "id": "F2Cc2JjPimiE",
        "colab_type": "code",
        "colab": {
          "base_uri": "https://localhost:8080/",
          "height": 257
        },
        "outputId": "7b4786ac-8a38-4d6d-d966-bf9ddc17db71"
      },
      "source": [
        "a.showCurrentState()\n",
        "print(a.getCurrentBalance())\n",
        "a.addBalance(100,200,100)\n",
        "a.showCurrentState()\n",
        "a.move2date(datetime.datetime(2020, 6, 10),0.03)\n",
        "a.showCurrentState()"
      ],
      "execution_count": null,
      "outputs": [
        {
          "output_type": "stream",
          "text": [
            "data: 2020-05-17 00:00:00 \n",
            " capital: 1000 \n",
            " interest: 0 \n",
            " other: 200\n",
            "1200\n",
            "data: 2020-05-17 00:00:00 \n",
            " capital: 1100 \n",
            " interest: 200 \n",
            " other: 300\n",
            "data: 2020-05-17 00:00:00 \n",
            " capital: 1100 \n",
            " interest: 202.16986301369863 \n",
            " other: 300\n"
          ],
          "name": "stdout"
        }
      ]
    },
    {
      "cell_type": "code",
      "metadata": {
        "id": "l_jnVqSsIS6B",
        "colab_type": "code",
        "colab": {
          "base_uri": "https://localhost:8080/",
          "height": 72
        },
        "outputId": "b619be3c-ea47-48c6-f834-95996cced107"
      },
      "source": [
        "a=Balance(d,1000,0,200)\n",
        "a.nowe_pole = 3\n",
        "print(a.nowe_pole)\n",
        "\n",
        "# sprzedzenie czym jest obiekt\n",
        "print(type(a))\n",
        "print(type(d))\n",
        "\n"
      ],
      "execution_count": null,
      "outputs": [
        {
          "output_type": "stream",
          "text": [
            "3\n",
            "<class '__main__.Balance'>\n",
            "<class 'datetime.datetime'>\n"
          ],
          "name": "stdout"
        }
      ]
    },
    {
      "cell_type": "code",
      "metadata": {
        "id": "rwAf6qurJ-XJ",
        "colab_type": "code",
        "colab": {
          "base_uri": "https://localhost:8080/",
          "height": 35
        },
        "outputId": "3dba288c-7872-4a2f-f7b7-ebadf5002d0c"
      },
      "source": [
        "# sprawdzanie błędów\n",
        "a=100.6\n",
        "\n",
        "if type(a)==int :\n",
        "  print(\"Zmienna typu int\") \n",
        "if type(a)==float :\n",
        "  print(\"Zmienna typu float\")\n",
        "\n",
        "\n",
        "\n"
      ],
      "execution_count": null,
      "outputs": [
        {
          "output_type": "stream",
          "text": [
            "Zmienna typu float\n"
          ],
          "name": "stdout"
        }
      ]
    },
    {
      "cell_type": "code",
      "metadata": {
        "id": "kbMSFmFrKmFJ",
        "colab_type": "code",
        "colab": {
          "base_uri": "https://localhost:8080/",
          "height": 35
        },
        "outputId": "e0900d44-8fe2-42c6-8d24-1455bc3f306c"
      },
      "source": [
        "# obsługa błędów\n",
        "\n",
        "try: \n",
        "  print(c)\n",
        "except:\n",
        "  print(\"zmienna nie istnieje\")"
      ],
      "execution_count": null,
      "outputs": [
        {
          "output_type": "stream",
          "text": [
            "zmienna nie istnieje\n"
          ],
          "name": "stdout"
        }
      ]
    },
    {
      "cell_type": "code",
      "metadata": {
        "id": "HrT7oCfrL-Be",
        "colab_type": "code",
        "colab": {}
      },
      "source": [
        "list_of_balance=[]\n",
        "d=datetime.datetime(2020, 5, 17)\n",
        "for i in  range(100):\n",
        "  b=Balance(d,np.random.uniform()*1000,0,np.random.uniform()*200)\n",
        "  list_of_balance.append(b)\n",
        "\n",
        "\n",
        "\n"
      ],
      "execution_count": null,
      "outputs": []
    },
    {
      "cell_type": "code",
      "metadata": {
        "id": "Iu4ByWtBMbH1",
        "colab_type": "code",
        "colab": {}
      },
      "source": [
        "#np.random.uniform()\n",
        "d2=datetime.datetime(2020, 7, 17)\n",
        "list_of_balance[1].move2date(d2,0.03)\n",
        "list_of_balance2=[]\n",
        "\n",
        "#for balance in list_of_balance   = for each\n",
        "# Wersja gdy w funkcji nie ma return self\n",
        "# for balance in list_of_balance :\n",
        "#   balance.move2date(d2,0.03)\n",
        "#   list_of_balance2.append(balance)\n",
        "\n",
        "# Wersja gdy w funkcji jest return self\n",
        "for balance in list_of_balance :\n",
        "  list_of_balance2.append(balance.move2date(d2,0.03))\n"
      ],
      "execution_count": null,
      "outputs": []
    },
    {
      "cell_type": "code",
      "metadata": {
        "id": "9uHIzoplOj0d",
        "colab_type": "code",
        "colab": {
          "base_uri": "https://localhost:8080/",
          "height": 165
        },
        "outputId": "f0de981b-1c54-4cf5-9d16-5dd65e54de5c"
      },
      "source": [
        "list_of_balance[1].showCurrentState()\n",
        "list_of_balance2[1].showCurrentState()"
      ],
      "execution_count": null,
      "outputs": [
        {
          "output_type": "stream",
          "text": [
            "data: 2020-05-17 00:00:00 \n",
            " capital: 247.65865171031464 \n",
            " interest: 4.96674337128631 \n",
            " other: 23.24142418431967\n",
            "data: 2020-05-17 00:00:00 \n",
            " capital: 247.65865171031464 \n",
            " interest: 4.96674337128631 \n",
            " other: 23.24142418431967\n"
          ],
          "name": "stdout"
        }
      ]
    },
    {
      "cell_type": "markdown",
      "metadata": {
        "id": "XvZ1qKvnjCiJ",
        "colab_type": "text"
      },
      "source": [
        "Do zrobienia:\n",
        "\n",
        "\n",
        "*  Przesuniecie w czasie: \n",
        "  1. O wzkazaną liczbę dni\n",
        "  2. Do daty (obsłużyć błąd gdy cofamy się wstecz)\n",
        "  3. Prosta wersja -> tylko z obsługa odetek\n",
        "  4. Bardziej skomplikowana -> również wpłaty\n",
        "\n",
        "\n",
        "* Próba napisania tego w optymalny sposób. Prawdopodobnie przejście na ramki danych albo array (numpy?)\n",
        "\n",
        "\n",
        "\n",
        "* Pytania:\n",
        "1. Jak definiuję klasę to po zmianie definicji musze przeliczać wszytko od nowa? Czy zmienne tej klasy są juz updatowane do wykonanej modyfikacji (chyba tak nie moze być -> bo np gdy zmienię pola obiektu)\n",
        "\n",
        "Nie musisz;) Możesz dodać atrybut do istniejącej instancji. Przykład:\n",
        "\n",
        "```\n",
        "a=Balance(d,1000,0,200)\n",
        "a.nowe_pole = 3\n",
        "print(a.nowe_pole)\n",
        "\n",
        "```\n",
        "Takie coś jak wyżej - przejdzie.\n",
        "\n",
        "[Tu są jakieś podstawy obiektówki w Pythonie](http://prac.im.pwr.wroc.pl/~szwabin/assets/intro/lectures/12.pdf)\n",
        "\n",
        "2. Jak z góry zdefiniować typ danego pola?\n",
        "\n",
        "Piękno języków typowanych dynamicznie - nie musisz tego robić;) Wiem, że dużo programistów C/C++ się niekomfortowo z tym czuje. Ale to chyba tak, jak w R, nie? \n",
        "\n",
        "3. Jeżeli mam grupę kont które mają klasę  **Balance** -> jak operować tym efektywnie \n",
        "\n",
        "Hmm, ja bym stworzył klasę **Accounts**, które w sobie ma np. zwykłą listę **Balance**. I w tej klasie pisałbym metody do operowania kontami. Ale jak wspominałem - w programowaniu obiektowym nie czuję się na tyle komfortowo, żeby odpowiedzięc wyczerpująco na to pytanie. Może są lepsze/wygodniejsze rozwiązania/\n",
        "\n",
        "4. Jak robić podpunkty markdown?\n",
        "* tak jak robiłeś wyżej;)\n",
        "* z tego co widzę ani **\\enumerate** ani **\\itemize** z $\\LaTeX$-a nie działa\n",
        "* ale równania, macierze, matematyczne wzory - jak najbardziej!\n",
        "\n",
        "5. Czy coś napisalbys optymalniej\n",
        "\n",
        "Nie ma się do czego przyczepić. W przyszłości oprócz **\\_\\_init\\_\\_** mogą Ci się przydać takie funkcje jak **\\_\\_doc\\_\\_** (dokumnetacja) czy **\\_\\_str\\_\\_** do printowania.\n",
        "\n",
        "6. datetime -> czy są alternatywne pakiety\n",
        "\n",
        "Z tego, co widzę to są takie moduły jak:\n",
        "* Dateutil - rozszerzenie do **datetime**\n",
        "* Arrow\n",
        "* Moment\n",
        "* Maya\n",
        "* Delorean\n",
        "\n",
        "Ale nigdy nnie używałem nic innego niż **datetime** i **time**.\n",
        "\n",
        "\n",
        "7. Jak zapisać na GutHub żeby nie trzeba było non stop modyfikować nazwy\n",
        "\n",
        "File -> save copy at GitHub - robi Ci normalnego commita.\n",
        "\n"
      ]
    }
  ]
}